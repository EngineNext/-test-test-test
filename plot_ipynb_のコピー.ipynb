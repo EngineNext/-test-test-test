{
  "nbformat": 4,
  "nbformat_minor": 0,
  "metadata": {
    "language_info": {
      "codemirror_mode": {
        "name": "ipython",
        "version": 3
      },
      "file_extension": ".py",
      "mimetype": "text/x-python",
      "name": "python",
      "nbconvert_exporter": "python",
      "pygments_lexer": "ipython3",
      "version": "3.7.9-final"
    },
    "orig_nbformat": 2,
    "kernelspec": {
      "name": "python3",
      "display_name": "Python 3",
      "language": "python"
    },
    "colab": {
      "name": "plot.ipynb のコピー",
      "provenance": [],
      "collapsed_sections": [],
      "include_colab_link": true
    }
  },
  "cells": [
    {
      "cell_type": "markdown",
      "metadata": {
        "id": "view-in-github",
        "colab_type": "text"
      },
      "source": [
        "<a href=\"https://colab.research.google.com/github/EngineNext/-test-test-test/blob/master/plot_ipynb_%E3%81%AE%E3%82%B3%E3%83%94%E3%83%BC.ipynb\" target=\"_parent\"><img src=\"https://colab.research.google.com/assets/colab-badge.svg\" alt=\"Open In Colab\"/></a>"
      ]
    },
    {
      "cell_type": "markdown",
      "metadata": {
        "id": "ROvprpcOETmi"
      },
      "source": [
        "今日のITコンピューターの授業では前回に引き続き、GoogleColaboratoryを使用しました。今回のテーマはグラフということでしたので、一応データを変えたりするというところ辺りまではできるようになったのですが、ほかはあまりわかっていないので、家に帰ったら改造したりして、使いこなせるようにしたいと思っています。ちょうど学校でも文化祭が終わったので、期末試験の勉強をしながら、WROの準備もしていこうと思っています。\n",
        "Pythonも最近手を出せていないので、土日を使ったりしてコツコツやっていきたいです。グラフの制作は今まで主に、EXCELを使っていたのですが、Pythonが使えるなら、データをそのまま入れて、後は自動で出力ということもできそうなので、ちょうど部活でやっている気体検知にも使用できそうだなと考えました。やれるかどうか試してみます。\n",
        "\n",
        "　テキストの最後の方にあった、コマンドラインで使用するという方の誕生日システムは何かうまくいかなかったので、もう一度やり直します。明日は模試なので今日は三十分くらいしかやることができないと思いますが、毎日少しづつ力をつけていけたらなと思っています。できることも増え始めたので、何か一つ作品を作ってみたいと思い始めました。頑張ります。"
      ]
    },
    {
      "cell_type": "code",
      "metadata": {
        "id": "lp05Rmf2ThLw"
      },
      "source": [
        "def pre_process():\n",
        "    date_values = (\n",
        "        \"2012/02/29\",  0,\n",
        "        \"2012/12/03\", 840000,\n",
        "        \"2013/01/14\", 1000000,\n",
        "        \"2013/10/08\", 1750000,\n",
        "        \"2013/11/13\", 2000000,\n",
        "        \"2014/03/03\", 2500000,\n",
        "        \"2014/06/11\", 3000000,\n",
        "        \"2014/08/20\", 3500000,\n",
        "        \"2014/10/13\", 3800000,\n",
        "        \"2015/02/18\", 5000000,\n",
        "        \"2015/12/10\", 7000000,    \n",
        "        \"2016/02/29\", 8000000,\n",
        "        \"2016/09/09\", 10000000,\n",
        "        \"2016/11/25\", 11000000,\n",
        "        \"2017/03/18\", 12500000,\n",
        "        \"2017/07/19\", 14500000,\n",
        "        \"2017/12/20\", 17000000,\n",
        "        \"2018/12/21\", 23000000,\n",
        "        \"2019/03/01\", 25000000,\n",
        "        \"2019/12/17\", 30000000,\n",
        "        \"2021/01/21\", 37000000) \n",
        "\n",
        "    dates = []\n",
        "    values = []\n",
        "    for item in date_values:\n",
        "        if type(item) is str:\n",
        "            dates.append(item)\n",
        "        elif type(item) is int:\n",
        "            values.append(item)\n",
        "    return dates, values\n",
        "\n",
        "\n"
      ],
      "execution_count": 16,
      "outputs": []
    },
    {
      "cell_type": "code",
      "metadata": {
        "id": "c3m1cX5OaNaG"
      },
      "source": [
        "def pre_process():\n",
        "    date_values = (\n",
        "        \"2012/02/29\",  0,\n",
        "        \"2012/12/03\", 840000,\n",
        "        \"2013/01/14\", 1000000,\n",
        "        \"2013/10/08\", 1750000,\n",
        "        \"2013/11/13\", 2000000,\n",
        "        \"2014/03/03\", 2500000,\n",
        "        \"2014/06/11\", 3000000,\n",
        "        \"2014/08/20\", 3500000,\n",
        "        \"2014/10/13\", 3800000,\n",
        "        \"2015/02/18\", 5000000,\n",
        "        \"2015/12/10\", 7000000,    \n",
        "        \"2016/02/29\", 8000000,\n",
        "        \"2016/09/09\", 10000000,\n",
        "        \"2016/11/25\", 11000000,\n",
        "        ) \n",
        "\n",
        "    dates = []\n",
        "    values = []\n",
        "    for item in date_values:\n",
        "        if type(item) is str:\n",
        "            dates.append(item)\n",
        "        elif type(item) is int:\n",
        "            values.append(item)\n",
        "    return dates, values"
      ],
      "execution_count": 26,
      "outputs": []
    },
    {
      "cell_type": "code",
      "metadata": {
        "id": "RFwMkPrSThL0"
      },
      "source": [
        "import datetime as dt\n",
        "import matplotlib.pyplot as plt\n",
        "\n",
        "\n",
        "def draw_graph(dates, values, language, limit_date=dt.date(2021, 12, 31), limit_units=40000000):\n",
        "        \n",
        "    if language == 'en':\n",
        "        units_div = 1000000\n",
        "        title = 'Raspberry Pi Cumulative Shipments (million units)'\n",
        "        font_name = \"Meiryo\"\n",
        "        title_font_size = 8\n",
        "    elif language == 'ja':\n",
        "        units_div = 1000000\n",
        "        title = 'Raspberry Pi 累計出荷台数 (百万台)'\n",
        "        font_name = \"Consolas\"\n",
        "        title_font_size = 10\n",
        "\n",
        "    x = [dt.datetime.strptime(d, '%Y/%m/%d').date() for d in dates]\n",
        "    y = [int(v) for v in values]\n",
        "\n",
        "    \n",
        "    fig = plt.figure(dpi=200, figsize=(4.0, 2.5))\n",
        "    ax = fig.add_subplot(1, 1, 1)\n",
        "    ax.set_xlim([dt.date(2012, 1, 1), limit_date])\n",
        "    ax.set_ylim(0, limit_units)\n",
        "    ax.yaxis.set_major_formatter(plt.FuncFormatter(lambda x, loc: \"{:,}\".format(int(x / units_div))))\n",
        "\n",
        "    plt.title(title, fontsize=title_font_size, fontname=font_name)\n",
        "    plt.rcParams[\"font.family\"] = font_name\n",
        "    plt.rcParams[\"font.size\"] = 7\n",
        "    plt.rcParams['axes.grid'] = True\n",
        "    plt.rcParams['axes.linewidth'] = 0.6\n",
        "    plt.rcParams['grid.linestyle'] = '--'\n",
        "    plt.rcParams['grid.linewidth'] = 0.3\n",
        "    plt.rcParams['xtick.direction'] = 'in'\n",
        "    plt.rcParams['ytick.direction'] = 'in'\n",
        "    plt.rcParams['xtick.major.width'] = 1.2\n",
        "    plt.rcParams['ytick.major.width'] = 1.2\n",
        "    plt.plot(x, y,  linewidth=1.5,\n",
        "             marker=\"D\", markersize=2.5, markeredgewidth=0.5,\n",
        "             markeredgecolor=\"green\", markerfacecolor=\"#a08080\")\n",
        "    plt.show()\n",
        "\n"
      ],
      "execution_count": 12,
      "outputs": []
    },
    {
      "cell_type": "code",
      "metadata": {
        "colab": {
          "base_uri": "https://localhost:8080/",
          "height": 262
        },
        "id": "8rrpVT9kaMU3",
        "outputId": "10e1bc93-dc59-47e7-f307-6c6986ab5c5f"
      },
      "source": [
        "print(dates)\n",
        "print(values)"
      ],
      "execution_count": 27,
      "outputs": [
        {
          "output_type": "stream",
          "text": [
            "['2012/02/29', '2012/12/03', '2013/01/14', '2013/10/08', '2013/11/13', '2014/03/03', '2014/06/11', '2014/08/20', '2014/10/13', '2015/02/18', '2015/12/10', '2016/02/29', '2016/09/09', '2016/11/25', '2017/03/18', '2017/07/19', '2017/12/20', '2018/12/21', '2019/03/01', '2019/12/17', '2021/01/21']\n",
            "[0, 840000, 1000000, 1750000, 2000000, 2500000, 3000000, 3500000, 3800000, 5000000, 7000000, 8000000, 10000000, 11000000, 12500000, 14500000, 17000000, 23000000, 25000000, 30000000, 37000000]\n"
          ],
          "name": "stdout"
        },
        {
          "output_type": "error",
          "ename": "TypeError",
          "evalue": "ignored",
          "traceback": [
            "\u001b[0;31m---------------------------------------------------------------------------\u001b[0m",
            "\u001b[0;31mTypeError\u001b[0m                                 Traceback (most recent call last)",
            "\u001b[0;32m<ipython-input-27-b08744803281>\u001b[0m in \u001b[0;36m<module>\u001b[0;34m()\u001b[0m\n\u001b[1;32m      1\u001b[0m \u001b[0mprint\u001b[0m\u001b[0;34m(\u001b[0m\u001b[0mdates\u001b[0m\u001b[0;34m)\u001b[0m\u001b[0;34m\u001b[0m\u001b[0;34m\u001b[0m\u001b[0m\n\u001b[1;32m      2\u001b[0m \u001b[0mprint\u001b[0m\u001b[0;34m(\u001b[0m\u001b[0mvalues\u001b[0m\u001b[0;34m)\u001b[0m\u001b[0;34m\u001b[0m\u001b[0;34m\u001b[0m\u001b[0m\n\u001b[0;32m----> 3\u001b[0;31m \u001b[0mprint\u001b[0m\u001b[0;34m(\u001b[0m\u001b[0msum\u001b[0m\u001b[0;34m(\u001b[0m\u001b[0mdates\u001b[0m\u001b[0;34m)\u001b[0m\u001b[0;34m)\u001b[0m\u001b[0;34m\u001b[0m\u001b[0;34m\u001b[0m\u001b[0m\n\u001b[0m",
            "\u001b[0;31mTypeError\u001b[0m: unsupported operand type(s) for +: 'int' and 'str'"
          ]
        }
      ]
    },
    {
      "cell_type": "code",
      "metadata": {
        "colab": {
          "base_uri": "https://localhost:8080/",
          "height": 171
        },
        "id": "p6WWFRJ3ZWIg",
        "outputId": "c32d30ef-d49d-4448-d330-b7928c1ab01c"
      },
      "source": [
        ""
      ],
      "execution_count": 20,
      "outputs": [
        {
          "output_type": "error",
          "ename": "TypeError",
          "evalue": "ignored",
          "traceback": [
            "\u001b[0;31m---------------------------------------------------------------------------\u001b[0m",
            "\u001b[0;31mTypeError\u001b[0m                                 Traceback (most recent call last)",
            "\u001b[0;32m<ipython-input-20-51139c1a4bcd>\u001b[0m in \u001b[0;36m<module>\u001b[0;34m()\u001b[0m\n\u001b[0;32m----> 1\u001b[0;31m \u001b[0mprint\u001b[0m\u001b[0;34m(\u001b[0m\u001b[0msum\u001b[0m\u001b[0;34m(\u001b[0m\u001b[0mdates\u001b[0m\u001b[0;34m)\u001b[0m\u001b[0;34m)\u001b[0m\u001b[0;34m\u001b[0m\u001b[0;34m\u001b[0m\u001b[0m\n\u001b[0m",
            "\u001b[0;31mTypeError\u001b[0m: unsupported operand type(s) for +: 'int' and 'str'"
          ]
        }
      ]
    },
    {
      "cell_type": "code",
      "metadata": {
        "colab": {
          "base_uri": "https://localhost:8080/"
        },
        "id": "GXLaVO9fa_lZ",
        "outputId": "c015ed66-bc81-43e6-a249-9c87d8714598"
      },
      "source": [
        "for v in values:\n",
        "    y = int(v)\n",
        "    print(y)\n"
      ],
      "execution_count": 18,
      "outputs": [
        {
          "output_type": "stream",
          "text": [
            "0\n",
            "840000\n",
            "1000000\n",
            "1750000\n",
            "2000000\n",
            "2500000\n",
            "3000000\n",
            "3500000\n",
            "3800000\n",
            "5000000\n",
            "7000000\n",
            "8000000\n",
            "10000000\n",
            "11000000\n",
            "12500000\n",
            "14500000\n",
            "17000000\n",
            "23000000\n",
            "25000000\n",
            "30000000\n",
            "37000000\n"
          ],
          "name": "stdout"
        }
      ]
    },
    {
      "cell_type": "code",
      "metadata": {
        "colab": {
          "base_uri": "https://localhost:8080/",
          "height": 513
        },
        "id": "oFec5gYxThL1",
        "outputId": "05e21fb3-b97d-481a-eb75-15e8c588dbfc"
      },
      "source": [
        "dates, values = pre_process()\n",
        "draw_graph(dates, values, 'en')"
      ],
      "execution_count": 19,
      "outputs": [
        {
          "output_type": "stream",
          "text": [
            "findfont: Font family ['Meiryo'] not found. Falling back to DejaVu Sans.\n"
          ],
          "name": "stderr"
        },
        {
          "output_type": "display_data",
          "data": {
            "image/png": "[encoded data removed]",
            "text/plain": [
              "<Figure size 800x500 with 1 Axes>"
            ]
          },
          "metadata": {
            "needs_background": "light"
          }
        }
      ]
    },
    {
      "cell_type": "code",
      "metadata": {
        "id": "_K66Gvn4ThL2",
        "colab": {
          "base_uri": "https://localhost:8080/",
          "height": 242
        },
        "outputId": "1c724d22-5f7d-4b10-e137-f009e8d94f95"
      },
      "source": [
        "from datetime import date\n",
        "import sys\n",
        "\n",
        "EVENT_TITLE = sys.argv[1]\n",
        "THE_DAY = (int(sys.argv[2]), int(sys.argv[3]))\n",
        "\n",
        "today = date.today()\n",
        "event_day = date(today.year, THE_DAY[0], THE_DAY[1])\n",
        "\n",
        "if event_day < today:\n",
        "  event_day = event_day.replace(year=today.year + 1)\n",
        "\n",
        "time_to_the_day = abs(event_day - today)\n",
        "\n",
        "print(time_to_the_day.days, \"days to go until\",\n",
        "        EVENT_TITLE + \",\", event_day)"
      ],
      "execution_count": 2,
      "outputs": [
        {
          "output_type": "error",
          "ename": "ValueError",
          "evalue": "ignored",
          "traceback": [
            "\u001b[0;31m---------------------------------------------------------------------------\u001b[0m",
            "\u001b[0;31mValueError\u001b[0m                                Traceback (most recent call last)",
            "\u001b[0;32m<ipython-input-2-8ea21cfc1403>\u001b[0m in \u001b[0;36m<module>\u001b[0;34m()\u001b[0m\n\u001b[1;32m      3\u001b[0m \u001b[0;34m\u001b[0m\u001b[0m\n\u001b[1;32m      4\u001b[0m \u001b[0mEVENT_TITLE\u001b[0m \u001b[0;34m=\u001b[0m \u001b[0msys\u001b[0m\u001b[0;34m.\u001b[0m\u001b[0margv\u001b[0m\u001b[0;34m[\u001b[0m\u001b[0;36m1\u001b[0m\u001b[0;34m]\u001b[0m\u001b[0;34m\u001b[0m\u001b[0;34m\u001b[0m\u001b[0m\n\u001b[0;32m----> 5\u001b[0;31m \u001b[0mTHE_DAY\u001b[0m \u001b[0;34m=\u001b[0m \u001b[0;34m(\u001b[0m\u001b[0mint\u001b[0m\u001b[0;34m(\u001b[0m\u001b[0msys\u001b[0m\u001b[0;34m.\u001b[0m\u001b[0margv\u001b[0m\u001b[0;34m[\u001b[0m\u001b[0;36m2\u001b[0m\u001b[0;34m]\u001b[0m\u001b[0;34m)\u001b[0m\u001b[0;34m,\u001b[0m \u001b[0mint\u001b[0m\u001b[0;34m(\u001b[0m\u001b[0msys\u001b[0m\u001b[0;34m.\u001b[0m\u001b[0margv\u001b[0m\u001b[0;34m[\u001b[0m\u001b[0;36m3\u001b[0m\u001b[0;34m]\u001b[0m\u001b[0;34m)\u001b[0m\u001b[0;34m)\u001b[0m\u001b[0;34m\u001b[0m\u001b[0;34m\u001b[0m\u001b[0m\n\u001b[0m\u001b[1;32m      6\u001b[0m \u001b[0;34m\u001b[0m\u001b[0m\n\u001b[1;32m      7\u001b[0m \u001b[0mtoday\u001b[0m \u001b[0;34m=\u001b[0m \u001b[0mdate\u001b[0m\u001b[0;34m.\u001b[0m\u001b[0mtoday\u001b[0m\u001b[0;34m(\u001b[0m\u001b[0;34m)\u001b[0m\u001b[0;34m\u001b[0m\u001b[0;34m\u001b[0m\u001b[0m\n",
            "\u001b[0;31mValueError\u001b[0m: invalid literal for int() with base 10: '/root/.local/share/jupyter/runtime/kernel-44922611-f420-4df7-8016-27199ac7a288.json'"
          ]
        }
      ]
    },
    {
      "cell_type": "code",
      "metadata": {
        "id": "10kGxR_Z67IK",
        "colab": {
          "base_uri": "https://localhost:8080/"
        },
        "outputId": "8f0c2a6b-a0cf-496f-bb5e-8c3a2c14fc42"
      },
      "source": [
        "from datetime import date\n",
        "\n",
        "EVENT_TITLE = \"your birthday\"\n",
        "THE_DAY = (4, 22)\n",
        "\n",
        "today = date.today()\n",
        "event_day = date(today.year, THE_DAY[0], THE_DAY[1])\n",
        "\n",
        "if event_day < today:\n",
        "  event_day = event_day.replace(year=today.year + 1)\n",
        "\n",
        "time_to_the_day = abs(event_day - today)\n",
        "\n",
        "print(time_to_the_day.days, \"days to go until\",\n",
        "        EVENT_TITLE + \",\", event_day)"
      ],
      "execution_count": 3,
      "outputs": [
        {
          "output_type": "stream",
          "text": [
            "244 days to go until your birthday, 2022-04-22\n"
          ],
          "name": "stdout"
        }
      ]
    },
    {
      "cell_type": "code",
      "metadata": {
        "colab": {
          "base_uri": "https://localhost:8080/",
          "height": 171
        },
        "id": "1L9XmZGLY1hB",
        "outputId": "b70ef4f7-5bec-4f73-dfbf-e67ccafe4941"
      },
      "source": [
        "print (date_values)"
      ],
      "execution_count": 4,
      "outputs": [
        {
          "output_type": "error",
          "ename": "NameError",
          "evalue": "ignored",
          "traceback": [
            "\u001b[0;31m---------------------------------------------------------------------------\u001b[0m",
            "\u001b[0;31mNameError\u001b[0m                                 Traceback (most recent call last)",
            "\u001b[0;32m<ipython-input-4-f90c423adbef>\u001b[0m in \u001b[0;36m<module>\u001b[0;34m()\u001b[0m\n\u001b[0;32m----> 1\u001b[0;31m \u001b[0mprint\u001b[0m \u001b[0;34m(\u001b[0m\u001b[0mdate_values\u001b[0m\u001b[0;34m)\u001b[0m\u001b[0;34m\u001b[0m\u001b[0;34m\u001b[0m\u001b[0m\n\u001b[0m",
            "\u001b[0;31mNameError\u001b[0m: name 'date_values' is not defined"
          ]
        }
      ]
    }
  ]
}